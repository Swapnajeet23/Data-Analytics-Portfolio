{
 "cells": [
  {
   "cell_type": "markdown",
   "id": "fb665faa",
   "metadata": {},
   "source": [
    "# Retail EDA & Trend Analysis\n",
    "Synthetic dataset EDA to uncover trends, segments, and KPIs."
   ]
  },
  {
   "cell_type": "code",
   "execution_count": null,
   "id": "ec7394a7",
   "metadata": {},
   "outputs": [],
   "source": [
    "import pandas as pd, matplotlib.pyplot as plt\n",
    "\n",
    "df = pd.read_csv('data/retail_sales.csv', parse_dates=['date'])\n",
    "df['month']=df['date'].astype('datetime64[M]')\n",
    "df.head()"
   ]
  },
  {
   "cell_type": "code",
   "execution_count": null,
   "id": "1e4e0cd9",
   "metadata": {},
   "outputs": [],
   "source": [
    "monthly = df.groupby('month')['revenue'].sum().reset_index()\n",
    "plt.figure(figsize=(10,5)); plt.plot(monthly['month'], monthly['revenue'], marker='o'); plt.title('Monthly Revenue Trend'); plt.xticks(rotation=45); plt.tight_layout(); plt.savefig('outputs/monthly_revenue_trend.png'); plt.show()"
   ]
  },
  {
   "cell_type": "code",
   "execution_count": null,
   "id": "84031a8d",
   "metadata": {},
   "outputs": [],
   "source": [
    "cat_rev = df.groupby('category')['revenue'].sum().sort_values(ascending=False)\n",
    "plt.figure(figsize=(8,5)); plt.bar(cat_rev.index, cat_rev.values); plt.title('Revenue by Category'); plt.xticks(rotation=25); plt.tight_layout(); plt.savefig('outputs/category_revenue.png'); plt.show()"
   ]
  },
  {
   "cell_type": "code",
   "execution_count": null,
   "id": "41efde56",
   "metadata": {},
   "outputs": [],
   "source": [
    "reg_rev = df.groupby('region')['revenue'].sum().sort_values(ascending=False)\n",
    "plt.figure(figsize=(6,4)); plt.bar(reg_rev.index, reg_rev.values); plt.title('Revenue by Region'); plt.tight_layout(); plt.savefig('outputs/region_revenue.png'); plt.show()"
   ]
  }
 ],
 "metadata": {},
 "nbformat": 4,
 "nbformat_minor": 5
}