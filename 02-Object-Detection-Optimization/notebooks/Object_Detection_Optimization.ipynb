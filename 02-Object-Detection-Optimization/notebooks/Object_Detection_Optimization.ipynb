{
 "cells": [
  {
   "cell_type": "markdown",
   "id": "6e788d01",
   "metadata": {},
   "source": [
    "# Object Detection Optimization (Simulated)\n",
    "Augmentation + tuning to raise detection accuracy from ~79% to ~89% on synthetic data."
   ]
  },
  {
   "cell_type": "code",
   "execution_count": null,
   "id": "0311d2ab",
   "metadata": {},
   "outputs": [],
   "source": [
    "import pandas as pd, matplotlib.pyplot as plt\n",
    "b=pd.read_csv('data/object_detection_baseline.csv')\n",
    "t=pd.read_csv('data/object_detection_tuned.csv')\n",
    "acc_b=b['detected_baseline_adj'].mean(); acc_t=t['detected_tuned_adj'].mean()\n",
    "print(acc_b, acc_t)\n",
    "plt.figure(figsize=(5,3)); plt.bar(['Baseline','Tuned'], [acc_b,acc_t]); plt.ylim(0,1); plt.title('Accuracy Before vs After'); plt.savefig('outputs/accuracy_plot_notebook.png'); plt.show()"
   ]
  }
 ],
 "metadata": {},
 "nbformat": 4,
 "nbformat_minor": 5
}