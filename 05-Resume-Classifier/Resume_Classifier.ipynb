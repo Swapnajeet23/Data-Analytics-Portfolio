{
 "cells": [
  {
   "cell_type": "markdown",
   "id": "e2a3d44d",
   "metadata": {},
   "source": [
    "# Resume Classification — Training\n",
    "Train TF‑IDF + Logistic Regression and export artifacts."
   ]
  },
  {
   "cell_type": "code",
   "execution_count": null,
   "id": "9d4e046a",
   "metadata": {},
   "outputs": [],
   "source": [
    "import pandas as pd\n",
    "from sklearn.model_selection import train_test_split\n",
    "from sklearn.feature_extraction.text import TfidfVectorizer\n",
    "from sklearn.linear_model import LogisticRegression\n",
    "from sklearn.metrics import accuracy_score, classification_report\n",
    "import joblib\n",
    "\n",
    "df = pd.read_csv('data/resumes.csv')\n",
    "X_train,X_test,y_train,y_test = train_test_split(df['text'], df['label'], test_size=0.2, random_state=42, stratify=df['label'])\n",
    "tfidf = TfidfVectorizer(max_features=3000, ngram_range=(1,2), stop_words='english')\n",
    "Xtr = tfidf.fit_transform(X_train); Xte = tfidf.transform(X_test)\n",
    "clf = LogisticRegression(max_iter=500)\n",
    "clf.fit(Xtr,y_train)\n",
    "pred = clf.predict(Xte)\n",
    "print('Accuracy:', accuracy_score(y_test,pred))\n",
    "print(classification_report(y_test,pred))\n",
    "joblib.dump(tfidf,'data/tfidf.joblib'); joblib.dump(clf,'data/logreg.joblib')"
   ]
  }
 ],
 "metadata": {},
 "nbformat": 4,
 "nbformat_minor": 5
}