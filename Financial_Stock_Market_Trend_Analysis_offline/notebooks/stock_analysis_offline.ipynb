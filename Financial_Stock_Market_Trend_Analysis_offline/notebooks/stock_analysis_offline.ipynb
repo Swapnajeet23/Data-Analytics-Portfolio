{
 "cells": [
  {
   "cell_type": "markdown",
   "id": "4192e13b",
   "metadata": {},
   "source": [
    "# Financial Stock Market Trend Analysis (Offline)\n",
    "\n",
    "This notebook uses a synthetic offline dataset so the project runs without internet. It performs trend analysis, moving averages, volatility, and correlations."
   ]
  },
  {
   "cell_type": "code",
   "execution_count": null,
   "id": "b7e3818f",
   "metadata": {},
   "outputs": [],
   "source": [
    "import pandas as pd\n",
    "import matplotlib.pyplot as plt\n",
    "\n",
    "# Load offline data\n",
    "df = pd.read_csv('data/raw_data.csv', parse_dates=['Date'], index_col='Date')\n",
    "df.head()"
   ]
  },
  {
   "cell_type": "code",
   "execution_count": null,
   "id": "e493333f",
   "metadata": {},
   "outputs": [],
   "source": [
    "# Moving averages for AAPL\n",
    "ma50 = df['AAPL'].rolling(50).mean()\n",
    "ma200 = df['AAPL'].rolling(200).mean()\n",
    "plt.figure(figsize=(10,5))\n",
    "plt.plot(df.index, df['AAPL'], label='AAPL')\n",
    "plt.plot(ma50.index, ma50, label='MA50')\n",
    "plt.plot(ma200.index, ma200, label='MA200')\n",
    "plt.legend(); plt.title('AAPL with MA50 & MA200'); plt.savefig('outputs/aapl_ma.png'); plt.show()"
   ]
  },
  {
   "cell_type": "code",
   "execution_count": null,
   "id": "385a8e29",
   "metadata": {},
   "outputs": [],
   "source": [
    "# Correlation of returns\n",
    "returns = df.pct_change()\n",
    "corr = returns.corr()\n",
    "print(corr)\n",
    "plt.figure(figsize=(5,4)); plt.imshow(corr, cmap='coolwarm'); plt.colorbar(); plt.xticks(range(len(corr)), corr.columns, rotation=45); plt.yticks(range(len(corr)), corr.columns); plt.title('Return Correlation'); plt.savefig('outputs/correlation_matrix.png'); plt.show()"
   ]
  },
  {
   "cell_type": "code",
   "execution_count": null,
   "id": "254cd1fa",
   "metadata": {},
   "outputs": [],
   "source": [
    "# Volatility example for TSLA\n",
    "vol30 = df['TSLA'].pct_change().rolling(30).std()* (252**0.5)\n",
    "plt.figure(figsize=(10,4)); plt.plot(vol30.index, vol30); plt.title('TSLA 30d Annualized Volatility'); plt.savefig('outputs/tsla_volatility.png'); plt.show()"
   ]
  },
  {
   "cell_type": "markdown",
   "id": "21c47b61",
   "metadata": {},
   "source": [
    "## Next steps\n",
    "- Add technical indicators (RSI, MACD)\n",
    "- Build predictive models (ARIMA, Prophet)\n",
    "- Deploy interactive dashboard with Streamlit"
   ]
  }
 ],
 "metadata": {},
 "nbformat": 4,
 "nbformat_minor": 5
}