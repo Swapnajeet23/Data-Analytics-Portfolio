{
 "cells": [
  {
   "cell_type": "markdown",
   "id": "fadd0b5b",
   "metadata": {},
   "source": [
    "# 🏥 Healthcare Analytics & Predictive Modeling\n",
    "\n",
    "Offline project: EDA + models (LogReg, RF, GB), saves best model for the Streamlit app."
   ]
  },
  {
   "cell_type": "code",
   "execution_count": null,
   "id": "c8d8379c",
   "metadata": {},
   "outputs": [],
   "source": [
    "import pandas as pd, numpy as np, matplotlib.pyplot as plt\n",
    "from sklearn.model_selection import train_test_split\n",
    "from sklearn.preprocessing import StandardScaler\n",
    "from sklearn.compose import ColumnTransformer\n",
    "from sklearn.pipeline import Pipeline\n",
    "from sklearn.linear_model import LogisticRegression\n",
    "from sklearn.ensemble import RandomForestClassifier, GradientBoostingClassifier\n",
    "from sklearn.metrics import roc_auc_score, roc_curve\n",
    "from sklearn.inspection import permutation_importance\n",
    "import joblib\n",
    "\n",
    "df = pd.read_csv('../data/patients.csv')\n",
    "df.head()"
   ]
  },
  {
   "cell_type": "code",
   "execution_count": null,
   "id": "cae52e9c",
   "metadata": {},
   "outputs": [],
   "source": [
    "df.describe().T"
   ]
  },
  {
   "cell_type": "code",
   "execution_count": null,
   "id": "23ec13da",
   "metadata": {},
   "outputs": [],
   "source": [
    "ax = df['age'].hist(bins=20, figsize=(5,3)); plt.title('Age Distribution'); plt.tight_layout(); plt.savefig('../outputs/age_hist.png'); plt.show()"
   ]
  },
  {
   "cell_type": "code",
   "execution_count": null,
   "id": "e27bea41",
   "metadata": {},
   "outputs": [],
   "source": [
    "X = df.drop(columns=['target']); y = df['target']\n",
    "X_train, X_test, y_train, y_test = train_test_split(X,y,test_size=0.2,random_state=7, stratify=y)\n",
    "num_cols = X.columns.tolist()\n",
    "pre = ColumnTransformer([('scale', StandardScaler(), num_cols)], remainder='passthrough')\n",
    "\n",
    "models = {\n",
    "    'logreg': LogisticRegression(max_iter=500),\n",
    "    'rf': RandomForestClassifier(n_estimators=300, random_state=7),\n",
    "    'gb': GradientBoostingClassifier(random_state=7)\n",
    "}\n",
    "\n",
    "scores={}\n",
    "for k, clf in models.items():\n",
    "    pipe = Pipeline([('pre', pre), ('clf', clf)])\n",
    "    pipe.fit(X_train, y_train)\n",
    "    proba = pipe.predict_proba(X_test)[:,1]\n",
    "    scores[k]=roc_auc_score(y_test, proba)\n",
    "scores"
   ]
  },
  {
   "cell_type": "code",
   "execution_count": null,
   "id": "5c9f1897",
   "metadata": {},
   "outputs": [],
   "source": [
    "best_key = max(scores, key=scores.get)\n",
    "print('Best model:', best_key, 'AUC=', round(scores[best_key],3))\n",
    "from sklearn.metrics import roc_curve\n",
    "pipe = Pipeline([('pre', pre), ('clf', models[best_key])])\n",
    "pipe.fit(X_train, y_train)\n",
    "import joblib\n",
    "joblib.dump(pipe, '../models/best_model.joblib')\n",
    "fpr, tpr, _ = roc_curve(y_test, pipe.predict_proba(X_test)[:,1])\n",
    "plt.figure(figsize=(6,5)); plt.plot(fpr,tpr,label=f\"{best_key} AUC={scores[best_key]:.3f}\")\n",
    "plt.plot([0,1],[0,1],'--'); plt.legend(); plt.tight_layout(); plt.savefig('../outputs/roc_curve.png'); plt.show()"
   ]
  },
  {
   "cell_type": "code",
   "execution_count": null,
   "id": "fdf906ca",
   "metadata": {},
   "outputs": [],
   "source": [
    "perm = permutation_importance(pipe, X_test, y_test, n_repeats=10, random_state=7)\n",
    "imp = pd.DataFrame({'feature': X.columns, 'importance': perm.importances_mean}).sort_values('importance', ascending=False)\n",
    "imp.head(10)"
   ]
  }
 ],
 "metadata": {},
 "nbformat": 4,
 "nbformat_minor": 5
}